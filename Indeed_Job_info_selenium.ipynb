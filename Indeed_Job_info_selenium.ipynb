{
 "cells": [
  {
   "cell_type": "code",
   "execution_count": 1,
   "metadata": {},
   "outputs": [],
   "source": [
    "from selenium import webdriver\n",
    "from selenium.webdriver.common.keys import Keys\n",
    "from selenium.webdriver.support import expected_conditions as EC\n",
    "import numpy as np\n",
    "import pandas as pd\n",
    "import time"
   ]
  },
  {
   "cell_type": "code",
   "execution_count": 2,
   "metadata": {},
   "outputs": [],
   "source": [
    "#This code will open the chrome browser and then open the indeed website\n",
    "#To run this code, Provide your chromedriver.exe path\n",
    "chromelocation = r\"C:\\Users\\Deepanshu Goyal\\.wdm\\chromedriver\\76.0.3809.126\\win32\\chromedriver.exe\" \n",
    "driver = webdriver.Chrome(chromelocation)\n",
    "driver.get('https://www.indeed.com/q-Product-Manager-l-San-Francisco,-CA-jobs.html')"
   ]
  },
  {
   "cell_type": "code",
   "execution_count": 3,
   "metadata": {},
   "outputs": [],
   "source": [
    "# This code will fetch the Title, Location, Salary & Summary infromation from the first page\n",
    "job_details = []\n",
    "for data in driver.find_elements_by_class_name('jobsearch-SerpJobCard.unifiedRow.row.result.clickcard'):\n",
    "    job_title = data.find_element_by_class_name('jobtitle.turnstileLink ').text\n",
    "    job_location = data.find_element_by_class_name('location.accessible-contrast-color-location').text\n",
    "    job_summary = data.find_element_by_class_name('summary').text\n",
    "    try:\n",
    "        job_salary = data.find_element_by_class_name('salaryText').text\n",
    "    except EC.NoSuchElementException:\n",
    "        job_salary = 'NA'\n",
    "    job_details.append({'Title':job_title,'Location':job_location,'Salary':job_salary,'Summary':job_summary})"
   ]
  },
  {
   "cell_type": "code",
   "execution_count": null,
   "metadata": {},
   "outputs": [
    {
     "name": "stdout",
     "output_type": "stream",
     "text": [
      "https://www.indeed.com/jobs?q=Product+Manager&l=San+Francisco%2C+CA&start=10\n"
     ]
    }
   ],
   "source": [
    "#This code will create dynamic url based on the URL pagination pattern\n",
    "#Read one page at a time and fetch all the above infromation and then move to next page\n",
    "#After each page load, this code will wait for 5 sec for any pop-ups. If there is any pop-up it will close the pop-up and \n",
    "#start reading the data\n",
    "\n",
    "url = 'https://www.indeed.com/jobs?q=Product+Manager&l=San+Francisco%2C+CA&start='\n",
    "for i in range(10,1000,10):\n",
    "    new_url = url+str(i)\n",
    "    driver.get(new_url)\n",
    "    time.sleep(5)\n",
    "    try:\n",
    "        driver.find_element_by_class_name('popover-x.ita-popover-x').click()\n",
    "        print(new_url)\n",
    "        for data in driver.find_elements_by_class_name('jobsearch-SerpJobCard.unifiedRow.row.result.clickcard'):\n",
    "            job_title = data.find_element_by_class_name('jobtitle.turnstileLink ').text\n",
    "            job_location = data.find_element_by_class_name('location.accessible-contrast-color-location').text\n",
    "            job_summary = data.find_element_by_class_name('summary').text\n",
    "            try:\n",
    "                job_salary = data.find_element_by_class_name('salaryText').text\n",
    "            except EC.NoSuchElementException:\n",
    "                job_salary = 'NA'\n",
    "            job_details.append({'Title':job_title,'Location':job_location,'Salary':job_salary,'Summary':job_summary})\n",
    "    except EC.NoSuchElementException:\n",
    "        print(new_url)\n",
    "        for data in driver.find_elements_by_class_name('jobsearch-SerpJobCard.unifiedRow.row.result.clickcard'):\n",
    "            job_title = data.find_element_by_class_name('jobtitle.turnstileLink ').text\n",
    "            job_location = data.find_element_by_class_name('location.accessible-contrast-color-location').text\n",
    "            job_summary = data.find_element_by_class_name('summary').text\n",
    "            try:\n",
    "                job_salary = data.find_element_by_class_name('salaryText').text\n",
    "            except EC.NoSuchElementException:\n",
    "                job_salary = 'NA'\n",
    "            job_details.append({'Title':job_title,'Location':job_location,'Salary':job_salary,'Summary':job_summary})\n",
    "#        next_button = driver.find_element_by_class_name('np')\n",
    "#        next_button.click()\n",
    "final_output = pd.DataFrame(job_details)\n",
    "final_output.to_csv('PMscraping.csv', index=False, columns=['Title','Location','Salary','Summary'])"
   ]
  },
  {
   "cell_type": "code",
   "execution_count": null,
   "metadata": {},
   "outputs": [],
   "source": [
    "#This will close the web browswer\n",
    "driver.close()"
   ]
  }
 ],
 "metadata": {
  "kernelspec": {
   "display_name": "Python 3",
   "language": "python",
   "name": "python3"
  },
  "language_info": {
   "codemirror_mode": {
    "name": "ipython",
    "version": 3
   },
   "file_extension": ".py",
   "mimetype": "text/x-python",
   "name": "python",
   "nbconvert_exporter": "python",
   "pygments_lexer": "ipython3",
   "version": "3.7.3"
  }
 },
 "nbformat": 4,
 "nbformat_minor": 2
}
